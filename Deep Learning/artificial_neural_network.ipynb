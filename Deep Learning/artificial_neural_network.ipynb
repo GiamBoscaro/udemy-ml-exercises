{
  "nbformat": 4,
  "nbformat_minor": 0,
  "metadata": {
    "colab": {
      "name": "artificial_neural_network.ipynb",
      "provenance": [],
      "collapsed_sections": []
    },
    "kernelspec": {
      "name": "python3",
      "display_name": "Python 3"
    },
    "language_info": {
      "name": "python"
    }
  },
  "cells": [
    {
      "cell_type": "code",
      "execution_count": 46,
      "metadata": {
        "id": "6rmbo2t7ca_z"
      },
      "outputs": [],
      "source": [
        "import numpy as np\n",
        "import pandas as pd\n",
        "import tensorflow as tf"
      ]
    },
    {
      "cell_type": "code",
      "source": [
        "dataset = pd.read_csv(\"Churn_Modelling.csv\")\n",
        "X = dataset.iloc[:, 3:-1].values\n",
        "y = dataset.iloc[:, -1].values"
      ],
      "metadata": {
        "id": "LO9KIblWuTxh"
      },
      "execution_count": 47,
      "outputs": []
    },
    {
      "cell_type": "markdown",
      "source": [
        "Label encoding per il \"genere\", che puo essere solo Male e Female per cui 0 e 1"
      ],
      "metadata": {
        "id": "NoS5haeivWud"
      }
    },
    {
      "cell_type": "code",
      "source": [
        "from sklearn.preprocessing import LabelEncoder\n",
        "le = LabelEncoder()\n",
        "X[:, 2] = le.fit_transform(X[:, 2])"
      ],
      "metadata": {
        "id": "H6OBr-sJvCE9"
      },
      "execution_count": 48,
      "outputs": []
    },
    {
      "cell_type": "markdown",
      "source": [
        "La colonna delle nazioni viene invece trasformata in una combinazione di 0 e 1"
      ],
      "metadata": {
        "id": "ylWD5C3YwSP2"
      }
    },
    {
      "cell_type": "code",
      "source": [
        "from sklearn.compose import ColumnTransformer\n",
        "from sklearn.preprocessing import OneHotEncoder\n",
        "ct = ColumnTransformer(transformers=[('encoder', OneHotEncoder(), [1])], remainder='passthrough')\n",
        "X = np.array(ct.fit_transform(X))\n",
        "print(X)"
      ],
      "metadata": {
        "colab": {
          "base_uri": "https://localhost:8080/"
        },
        "id": "aNH9Bm25vfqw",
        "outputId": "8b12b836-b8dd-4aa6-df73-1fe8a9a36072"
      },
      "execution_count": 49,
      "outputs": [
        {
          "output_type": "stream",
          "name": "stdout",
          "text": [
            "[[1.0 0.0 0.0 ... 1 1 101348.88]\n",
            " [0.0 0.0 1.0 ... 0 1 112542.58]\n",
            " [1.0 0.0 0.0 ... 1 0 113931.57]\n",
            " ...\n",
            " [1.0 0.0 0.0 ... 0 1 42085.58]\n",
            " [0.0 1.0 0.0 ... 1 0 92888.52]\n",
            " [1.0 0.0 0.0 ... 1 0 38190.78]]\n"
          ]
        }
      ]
    },
    {
      "cell_type": "code",
      "source": [
        "from sklearn.model_selection import train_test_split\n",
        "X_train, X_test, y_train, y_test = train_test_split(X, y, test_size=0.2, random_state=0)"
      ],
      "metadata": {
        "id": "kW-T358PwGlu"
      },
      "execution_count": 50,
      "outputs": []
    },
    {
      "cell_type": "markdown",
      "source": [
        "Lo scaling è assolutamente necessario in un network neurale. Tutti i parametri vengono scalati sempre."
      ],
      "metadata": {
        "id": "iYQNNamIwdmy"
      }
    },
    {
      "cell_type": "code",
      "source": [
        "from sklearn.preprocessing import StandardScaler\n",
        "sc = StandardScaler()\n",
        "X_train = sc.fit_transform(X_train)\n",
        "X_test = sc.transform(X_test)"
      ],
      "metadata": {
        "id": "HflYPMbEwOAO"
      },
      "execution_count": 51,
      "outputs": []
    },
    {
      "cell_type": "markdown",
      "source": [
        "add() aggiunte un layer. Se ne possono usare quanti layer si vogliono.\n",
        "\n",
        "Dense rappresenta un fully connected layer\n",
        "\n",
        "units indica quanti neuroni sono presenti nel layer. Non c'è una regola ma la scelta proviene da test e da esperienza."
      ],
      "metadata": {
        "id": "tKWiJmk2xmC9"
      }
    },
    {
      "cell_type": "code",
      "source": [
        "ann = tf.keras.models.Sequential()\n",
        "ann.add(tf.keras.layers.Dense(units=6, activation='relu')) # hidden layer 1\n",
        "ann.add(tf.keras.layers.Dense(units=6, activation='relu')) # hidden layer 2"
      ],
      "metadata": {
        "id": "zTuf4O5exCQU"
      },
      "execution_count": 52,
      "outputs": []
    },
    {
      "cell_type": "markdown",
      "source": [
        "Visto che l'output che dobbiamo ottenere è un booleano, l'ultimo layer avrà solo un neurone.\n",
        "\n",
        "Come funzione di attivazione viene usato un sigmoide in modo da avere sia una classificazione (0 o 1) sia una probabilità che il dato appartenga effettivamente all'insieme 0 o 1.\n",
        "\n",
        "Nel caso di una classificazione non binaria, viene utilizzata l'activation \"softmax\""
      ],
      "metadata": {
        "id": "-tjIPfj2yXHP"
      }
    },
    {
      "cell_type": "code",
      "source": [
        "ann.add(tf.keras.layers.Dense(units=1, activation='sigmoid')) # output layer"
      ],
      "metadata": {
        "id": "IoudyBoTyKoB"
      },
      "execution_count": 53,
      "outputs": []
    },
    {
      "cell_type": "markdown",
      "source": [
        "Un ottimo metodo di ottimizzazione è lo Stochastic Gradient Descent, che corrisponde all'ottimizzatore \"adam\".\n",
        "\n",
        "Nel caso in cui si debba ricavare un risultato binario/booleano, la funzione di loss deve sempre essere \"binary_crossentropy\". Per una classificazione non binaria si utilizza \"categorical_crossentropy\".\n",
        "\n",
        "metrics è una lista di metriche da computare per valutare la performance del modello, ma non vengono usate per l'effettivo training (solo la loss function viene usata)"
      ],
      "metadata": {
        "id": "_KVptzIM1DlV"
      }
    },
    {
      "cell_type": "code",
      "source": [
        "ann.compile(optimizer='adam', loss='binary_crossentropy', metrics=['accuracy'])"
      ],
      "metadata": {
        "id": "nLcJTkgh0x64"
      },
      "execution_count": 54,
      "outputs": []
    },
    {
      "cell_type": "markdown",
      "source": [
        "batch_size indica ogni quanto computare il loss confrontando i valori in output dal network con i valori reali (y_train).\n",
        "\n",
        "Confrontare ad ogni entry sarebbe troppo lento, quindi il confronto del loss e ricalcolo dei pesi viene fatto ogni 32 entry."
      ],
      "metadata": {
        "id": "kxFa1EHD2yf0"
      }
    },
    {
      "cell_type": "code",
      "source": [
        "ann.fit(X_train, y_train, batch_size=32, epochs=100)"
      ],
      "metadata": {
        "colab": {
          "base_uri": "https://localhost:8080/"
        },
        "id": "UgC9mZBa2Vmn",
        "outputId": "bd8d8907-03c1-42b1-c811-303abdf515de"
      },
      "execution_count": 55,
      "outputs": [
        {
          "output_type": "execute_result",
          "data": {
            "text/plain": [
              "<keras.callbacks.History at 0x7f8058cf5a50>"
            ]
          },
          "metadata": {},
          "execution_count": 55
        }
      ]
    },
    {
      "cell_type": "code",
      "source": [
        "x_pred = np.array([[600, \"France\", \"Male\", 40, 3, 60000, 2, 1, 1, 50000]])\n",
        "x_pred[:, 2] = le.transform(x_pred[:, 2])\n",
        "x_pred = np.array(ct.transform(x_pred))\n",
        "x_pred = sc.transform(x_pred)\n",
        "y_pred = ann.predict(x_pred)\n",
        "print(y_pred*100, \"%\")\n",
        "print(y_pred > 0.5)"
      ],
      "metadata": {
        "colab": {
          "base_uri": "https://localhost:8080/"
        },
        "id": "FtiWmr273Rl8",
        "outputId": "f547b7a6-e3e6-4673-dc20-7c08aefe57ab"
      },
      "execution_count": 63,
      "outputs": [
        {
          "output_type": "stream",
          "name": "stdout",
          "text": [
            "[[4.005411]] %\n",
            "[[False]]\n"
          ]
        }
      ]
    },
    {
      "cell_type": "code",
      "source": [
        "y_pred = ann.predict(X_test)\n",
        "y_pred = (y_pred > 0.5)\n",
        "print(np.concatenate((y_pred.reshape(len(y_pred),1), y_test.reshape(len(y_test),1)), axis=1))"
      ],
      "metadata": {
        "colab": {
          "base_uri": "https://localhost:8080/"
        },
        "id": "1PkV_cw86zA0",
        "outputId": "32621b96-48e7-48b2-a07d-323d681070f5"
      },
      "execution_count": 64,
      "outputs": [
        {
          "output_type": "stream",
          "name": "stdout",
          "text": [
            "[[0 0]\n",
            " [0 1]\n",
            " [0 0]\n",
            " ...\n",
            " [0 0]\n",
            " [0 0]\n",
            " [0 0]]\n"
          ]
        }
      ]
    },
    {
      "cell_type": "code",
      "source": [
        "from sklearn.metrics import confusion_matrix, accuracy_score\n",
        "cm = confusion_matrix(y_test, y_pred)\n",
        "print(cm)\n",
        "accuracy_score(y_test, y_pred)"
      ],
      "metadata": {
        "colab": {
          "base_uri": "https://localhost:8080/"
        },
        "id": "oCaoAcJs7KTX",
        "outputId": "3c0f6731-08ee-4561-e1c1-3e1800dc8fab"
      },
      "execution_count": 65,
      "outputs": [
        {
          "output_type": "stream",
          "name": "stdout",
          "text": [
            "[[1510   85]\n",
            " [ 194  211]]\n"
          ]
        },
        {
          "output_type": "execute_result",
          "data": {
            "text/plain": [
              "0.8605"
            ]
          },
          "metadata": {},
          "execution_count": 65
        }
      ]
    }
  ]
}